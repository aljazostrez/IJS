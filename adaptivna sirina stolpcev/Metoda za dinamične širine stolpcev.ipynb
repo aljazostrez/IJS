{
 "cells": [
  {
   "cell_type": "markdown",
   "metadata": {},
   "source": [
    "# Metoda PDF za določanje stolpcev\n",
    "\n",
    "<font size=\"4\">Ideja je, da na set podatkov naredimo gaussian kernel density estimation, nato pa glede na ta PDF določamo stevilo stolpcev na posameznih intervalih."
   ]
  },
  {
   "cell_type": "code",
   "execution_count": 10,
   "metadata": {},
   "outputs": [
    {
     "data": {
      "image/png": "[encoded data removed]",
      "text/plain": [
       "<Figure size 432x288 with 1 Axes>"
      ]
     },
     "metadata": {
      "needs_background": "light"
     },
     "output_type": "display_data"
    }
   ],
   "source": [
    "import random\n",
    "import matplotlib.pyplot as plt\n",
    "import numpy as np\n",
    "from scipy.stats import gaussian_kde\n",
    "from scipy.optimize import fmin, fsolve\n",
    "from math import floor, ceil\n",
    "\n",
    "random.seed(0)\n",
    "\n",
    "# normalna porazdelitev\n",
    "gauss_data = []\n",
    "for i in range(10000):\n",
    "    gauss_data.append(random.gauss(0,1))\n",
    "\n",
    "\n",
    "# pdf\n",
    "x = np.linspace(min(gauss_data), max(gauss_data), 1000)\n",
    "p = gaussian_kde(gauss_data)\n",
    "\n",
    "# srednja vrednost in maksimum pdf\n",
    "mu = np.mean(gauss_data)\n",
    "maks = p(mu)\n",
    "\n",
    "# za zacetek vzemimo 3 utezi\n",
    "obm1 = maks * 2/3\n",
    "obm2 = maks * 1/3\n",
    "\n",
    "# izris mej za utezi\n",
    "obm1_izris = [obm1 for _ in x]\n",
    "obm2_izris = [obm2 for _ in x]\n",
    "\n",
    "plt.plot(x,p(x))\n",
    "plt.plot(x,obm1_izris)\n",
    "plt.plot(x,obm2_izris)\n",
    "\n",
    "plt.show()"
   ]
  },
  {
   "cell_type": "markdown",
   "metadata": {},
   "source": [
    "<font size=\"4\">Sestavimo funkcijo f, ki vrne vrednosti na intervalih, kjer je pdf večji/manjši od dolocene meje. Nato poglejmo, kakšne so vrednosti funkcije f na teh intervalih. Potem poiščemo intervale, na katerih ima f konstantno vrednost."
   ]
  },
  {
   "cell_type": "code",
   "execution_count": 2,
   "metadata": {
    "scrolled": true
   },
   "outputs": [
    {
     "name": "stdout",
     "output_type": "stream",
     "text": [
      "(-3.4414798562214743, -1.5464976755832294, 0.2)\n",
      "(-1.5464976755832294, -0.9480822501185204, 0.3)\n",
      "(-0.9480822501185204, 0.8471640262756059, 0.5)\n",
      "(0.8471640262756059, 1.4455794517403158, 0.3)\n",
      "(1.4455794517403158, 3.6397693451109143, 0.2)\n"
     ]
    }
   ],
   "source": [
    "from optimalBinNumber import optBinNum\n",
    "\n",
    "# definiramo funkcijo f, ki bo povedala, kaksna bo utez na intervalih pod obmocji\n",
    "def f(x):\n",
    "    if p(x)>=obm1:\n",
    "        return 0.5\n",
    "    elif obm1>p(x)>=obm2:\n",
    "        return 0.3\n",
    "    elif obm2>p(x)>0:\n",
    "        return 0.2\n",
    "    else:\n",
    "        return 0\n",
    "\n",
    "# pogledamo, kaksne so vrednosti funkcije f na intervalu [min,max]\n",
    "vals = []\n",
    "korak = np.std(gauss_data)/10\n",
    "\n",
    "for i in np.arange(min(gauss_data)-korak,max(gauss_data)+korak,korak):\n",
    "    vals.append((i,f(i)))\n",
    "\n",
    "\n",
    "# poiscimo intervale, kjer je vrednost funkcije f konstantna\n",
    "to_compare = vals[0]\n",
    "intervals = []\n",
    "a = to_compare[0]\n",
    "b = None\n",
    "\n",
    "for i in range(len(vals)-1):\n",
    "    if vals[i][1] != to_compare[1]:\n",
    "        b = vals[i-1][0]\n",
    "        intervals.append((a,b,to_compare[1]))\n",
    "        to_compare = vals[i]\n",
    "        a = b\n",
    "        b = None\n",
    "    \n",
    "intervals.append((a,vals[-1][0],to_compare[1]))\n",
    "\n",
    "print(*intervals,sep=\"\\n\")"
   ]
  },
  {
   "cell_type": "markdown",
   "metadata": {},
   "source": [
    "<font size=\"4\">Sedaj z uporabo teh intervalov in vrednosti funkcije f na teh intervalih določimo meje stolpcev našega histograma."
   ]
  },
  {
   "cell_type": "code",
   "execution_count": 3,
   "metadata": {
    "scrolled": false
   },
   "outputs": [
    {
     "name": "stdout",
     "output_type": "stream",
     "text": [
      "-3.4414798562214743\n",
      "-3.0624834200938253\n",
      "-2.6834869839661764\n",
      "-2.3044905478385274\n",
      "-1.9254941117108784\n",
      "-1.5464976755832294\n",
      "-1.347025867094993\n",
      "-1.1475540586067567\n",
      "-0.9480822501185204\n",
      "-0.7848780431735999\n",
      "-0.6216738362286793\n",
      "-0.4584696292837587\n",
      "-0.2952654223388381\n",
      "-0.13206121539391757\n",
      "0.031142991551003085\n",
      "0.19434719849592352\n",
      "0.3575514054408442\n",
      "0.5207556123857648\n",
      "0.6839598193306853\n",
      "0.8471640262756059\n",
      "1.0466358347638425\n",
      "1.2461076432520792\n",
      "1.4455794517403158\n",
      "1.8112777673020821\n",
      "2.1769760828638485\n",
      "2.542674398425615\n",
      "2.908372713987381\n",
      "3.2740710295491477\n",
      "3.6397693451109143\n",
      "\n",
      "Stevilo stolpcev:  29\n"
     ]
    }
   ],
   "source": [
    "# dolocimo meje stolpcev nasega histograma\n",
    "stolpci = []\n",
    "optimalno_staticno = optBinNum(gauss_data) # scott metoda za dolocanje stevilo stolpcev\n",
    "first = intervals[0][0] # spodnja meja histograma\n",
    "last = intervals[-1][1] # zgornja meja histograma\n",
    "d = last - first # dolzina intervala, kjer je histogram definiran\n",
    "\n",
    "for el in intervals:\n",
    "    st_stolpcev_na_int = ceil(2*el[2]*(el[1]-el[0])*optimalno_staticno/d) #trojka iz tistih tretjin\n",
    "    array_to_append = np.linspace(el[0],el[1],st_stolpcev_na_int, endpoint=False)\n",
    "    stolpci.append(array_to_append)\n",
    "\n",
    "stolpci = list(np.concatenate(stolpci))\n",
    "stolpci.append(intervals[-1][1])\n",
    "\n",
    "print(*stolpci,sep=\"\\n\")\n",
    "\n",
    "print(\"\\nStevilo stolpcev: \", len(stolpci))"
   ]
  },
  {
   "cell_type": "code",
   "execution_count": 4,
   "metadata": {},
   "outputs": [
    {
     "data": {
      "image/png": "[encoded data removed]",
      "text/plain": [
       "<Figure size 432x288 with 1 Axes>"
      ]
     },
     "metadata": {
      "needs_background": "light"
     },
     "output_type": "display_data"
    }
   ],
   "source": [
    "plt.hist(gauss_data, bins=stolpci, density=1)\n",
    "plt.show()"
   ]
  },
  {
   "cell_type": "markdown",
   "metadata": {},
   "source": [
    "<font size=\"4\">To metodo bomo implementirali v datoteko optimalBinNumber.py kot funkcijo dynamic_bins."
   ]
  },
  {
   "cell_type": "markdown",
   "metadata": {},
   "source": [
    "# Testiranje na modelu gaussovskih mešanic\n",
    "\n",
    "<font size=\"4\">Testirajmo našo metodo na modelih gaussovskih mešanic."
   ]
  },
  {
   "cell_type": "code",
   "execution_count": 6,
   "metadata": {
    "scrolled": true
   },
   "outputs": [
    {
     "name": "stdout",
     "output_type": "stream",
     "text": [
      "Stevilo stolpcev:  30\n"
     ]
    },
    {
     "data": {
      "image/png": "[encoded data removed]",
      "text/plain": [
       "<Figure size 432x288 with 1 Axes>"
      ]
     },
     "metadata": {
      "needs_background": "light"
     },
     "output_type": "display_data"
    }
   ],
   "source": [
    "from optimalBinNumber import dynamicBins\n",
    "from GMM import GMM\n",
    "\n",
    "gmm = GMM([[-100,5],[0,5],[100,5]], 20000)\n",
    "\n",
    "bins = dynamicBins(gmm)\n",
    "print(\"Stevilo stolpcev: \",len(bins))\n",
    "\n",
    "plt.hist(gmm,bins=bins,density=1)\n",
    "plt.show()"
   ]
  },
  {
   "cell_type": "markdown",
   "metadata": {},
   "source": [
    "<font size=\"4\">Metoda deluje. Poglejmo še malo bolj občutljiv problem: normalna porazdelitev s \"pokvarjenim repom\"."
   ]
  },
  {
   "cell_type": "code",
   "execution_count": 11,
   "metadata": {
    "scrolled": false
   },
   "outputs": [
    {
     "name": "stdout",
     "output_type": "stream",
     "text": [
      "Stevilo stolpcev:  21\n"
     ]
    },
    {
     "data": {
      "image/png": "[encoded data removed]",
      "text/plain": [
       "<Figure size 432x288 with 1 Axes>"
      ]
     },
     "metadata": {
      "needs_background": "light"
     },
     "output_type": "display_data"
    }
   ],
   "source": [
    "normRep = GMM([[0,1],[10,1]], 10000, [0.9,0.1])\n",
    "bins1 = dynamicBins(normRep)\n",
    "print(\"Stevilo stolpcev: \",len(bins1))\n",
    "\n",
    "plt.hist(normRep,bins=bins1,density=1)\n",
    "plt.show()"
   ]
  },
  {
   "cell_type": "code",
   "execution_count": 8,
   "metadata": {},
   "outputs": [
    {
     "name": "stdout",
     "output_type": "stream",
     "text": [
      "Stevilo stolpcev:  46\n"
     ]
    },
    {
     "data": {
      "image/png": "[encoded data removed]",
      "text/plain": [
       "<Figure size 432x288 with 1 Axes>"
      ]
     },
     "metadata": {
      "needs_background": "light"
     },
     "output_type": "display_data"
    }
   ],
   "source": [
    "normRep2 = GMM([[0,1],[10,0.01]], 10000, [0.999,0.001])\n",
    "bins2 = dynamicBins(normRep2)\n",
    "print(\"Stevilo stolpcev: \",len(bins2))\n",
    "\n",
    "plt.hist(normRep2,bins=bins2,density=1)\n",
    "plt.show()"
   ]
  },
  {
   "cell_type": "markdown",
   "metadata": {},
   "source": [
    "<font size=\"4\">Postavimo drugačne uteži, da bomo videli podrobnosti v repu porazdelitve."
   ]
  },
  {
   "cell_type": "code",
   "execution_count": 9,
   "metadata": {},
   "outputs": [
    {
     "name": "stdout",
     "output_type": "stream",
     "text": [
      "Stevilo stolpcev:  107\n"
     ]
    },
    {
     "data": {
      "image/png": "[encoded data removed]",
      "text/plain": [
       "<Figure size 432x288 with 1 Axes>"
      ]
     },
     "metadata": {
      "needs_background": "light"
     },
     "output_type": "display_data"
    }
   ],
   "source": [
    "normRep3 = GMM([[0,1],[10,0.01]], 10000, [0.999,0.001])\n",
    "bins3 = dynamicBins(normRep3, weights=[0.3,0.7])\n",
    "print(\"Stevilo stolpcev: \",len(bins3))\n",
    "\n",
    "plt.hist(normRep3,bins=bins3,density=1)\n",
    "plt.show()"
   ]
  }
 ],
 "metadata": {
  "kernelspec": {
   "display_name": "Python 3",
   "language": "python",
   "name": "python3"
  },
  "language_info": {
   "codemirror_mode": {
    "name": "ipython",
    "version": 3
   },
   "file_extension": ".py",
   "mimetype": "text/x-python",
   "name": "python",
   "nbconvert_exporter": "python",
   "pygments_lexer": "ipython3",
   "version": "3.7.1"
  }
 },
 "nbformat": 4,
 "nbformat_minor": 2
}
