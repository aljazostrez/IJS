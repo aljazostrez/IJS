{
 "cells": [
  {
   "cell_type": "code",
   "execution_count": 3,
   "metadata": {},
   "outputs": [],
   "source": [
    "%matplotlib qt\n",
    "\n",
    "import numpy as np\n",
    "from scipy import stats\n",
    "import matplotlib.pyplot as plt\n",
    "\n",
    "data1 = np.random.normal(0,1,1000000)\n",
    "data2 = np.random.normal(1,1,1000000)\n",
    "\n",
    "pdf1 = lambda x: stats.norm.pdf(x, loc=0, scale=1)\n",
    "pdf2 = lambda x: stats.norm.pdf(x, loc=1, scale=1)\n",
    "\n",
    "x = np.linspace(-5,6,1000)\n",
    "\n",
    "plt.figure(figsize=(15,16))\n",
    "plt.title(\"pdf-a in histograma\")\n",
    "plt.subplot(211)\n",
    "plt.plot(x, pdf1(x), label=\"mu=0, var=1\")\n",
    "plt.plot(x, pdf2(x), label=\"mu=1, var=1\")\n",
    "plt.legend()\n",
    "plt.grid(1)\n",
    "\n",
    "plt.subplot(212)\n",
    "plt.hist(data1,bins=20,density=1)\n",
    "plt.hist(data2,bins=20,density=1)\n",
    "\n",
    "plt.show()\n"
   ]
  },
  {
   "cell_type": "code",
   "execution_count": 5,
   "metadata": {
    "scrolled": false
   },
   "outputs": [
    {
     "name": "stdout",
     "output_type": "stream",
     "text": [
      "100\n",
      "200\n",
      "300\n",
      "400\n",
      "500\n",
      "600\n",
      "700\n",
      "800\n",
      "900\n"
     ]
    }
   ],
   "source": [
    "from renyi import renyi_divergence_cont, renyi_divergence_hist\n",
    "\n",
    "renyi_hist = []\n",
    "renyi_tocna = []\n",
    "\n",
    "for i in np.arange(0.1,3,0.1):\n",
    "    renyi_tocna.append(renyi_divergence_cont(pdf1, pdf2, i, -5, 6))\n",
    "\n",
    "for i in range(1,1000):\n",
    "    if i % 100 == 0:\n",
    "        print(i)\n",
    "    renyi_i = []\n",
    "    y1,x1 = np.histogram(data1, bins=i, density=1)\n",
    "    y2,x2 = np.histogram(data2, bins=i, density=1)\n",
    "    for j in np.arange(0.1,3,0.1):\n",
    "        renyi_i.append(renyi_divergence_hist(x1,y1,x2,y2,j))\n",
    "    renyi_hist.append(renyi_i)"
   ]
  },
  {
   "cell_type": "code",
   "execution_count": 8,
   "metadata": {},
   "outputs": [],
   "source": [
    "with open(\"divergence_histogramov.txt\", \"w\") as dat:\n",
    "    dat.write(str(renyi_hist))"
   ]
  },
  {
   "cell_type": "code",
   "execution_count": 11,
   "metadata": {},
   "outputs": [],
   "source": [
    "import ast\n",
    "with open(\"divergence_histogramov.txt\", \"r\") as dat:\n",
    "    renyi_hist_test = ast.literal_eval(dat.readline())"
   ]
  },
  {
   "cell_type": "code",
   "execution_count": 21,
   "metadata": {},
   "outputs": [],
   "source": [
    "import numpy as np\n",
    "import matplotlib.pyplot as plt\n",
    "from matplotlib.animation import FuncAnimation\n",
    "\n",
    "fig, ax = plt.subplots()\n",
    "x_data = np.arange(0.1,3,0.1)\n",
    "ydata = []\n",
    "plt.plot(x_data, renyi_tocna, label=\"tocna\")\n",
    "ln, = plt.plot([], [])\n",
    "plt.xlabel(\"Red (alpha)\")\n",
    "plt.ylabel(\"Renyi divergenca\")\n",
    "\n",
    "def init():\n",
    "    ax.set_xlim(0, 3)\n",
    "    return ln,\n",
    "\n",
    "def update(i):\n",
    "    ydata = renyi_hist[i]\n",
    "    del ln\n",
    "    ln, = plt.plot(x_data, y_data)\n",
    "    plt.title(\"število stolpcev = {}\".format(str(i)))\n",
    "    return ln,\n",
    "\n",
    "ani = FuncAnimation(fig, update, frames=1000,\n",
    "                    init_func=init, blit=True)\n",
    "plt.show()"
   ]
  },
  {
   "cell_type": "code",
   "execution_count": 31,
   "metadata": {},
   "outputs": [],
   "source": [
    "import matplotlib.animation as animation  \n",
    "import matplotlib.pyplot as plt  \n",
    "import numpy as np  \n",
    "  \n",
    "  \n",
    "# creating a blank window  \n",
    "# for the animation  \n",
    "fig = plt.figure()  \n",
    "axis = plt.axes(xlim =(0, 2),  \n",
    "                ylim =(0, 0.75))  \n",
    "  \n",
    "line, = axis.plot([], [], lw = 2)  \n",
    "axis.plot(np.arange(0.1,3,0.1), renyi_tocna, label=\"tocna\")\n",
    "  \n",
    "# what will our line dataset  \n",
    "# contain?  \n",
    "def init():  \n",
    "    line.set_data([], [])  \n",
    "    return line,  \n",
    "  \n",
    "# initializing empty values  \n",
    "# for x and y co-ordinates  \n",
    "xdata, ydata = np.arange(0.1,3,0.1), []  \n",
    "  \n",
    "# animation function  \n",
    "def animate(i):  \n",
    "    # t is a parameter which varies  \n",
    "    # with the frame number  \n",
    "    t = 0.1 * i  \n",
    "    \n",
    "    # appending values to the previously  \n",
    "    # empty x and y data holders  \n",
    "    ydata = renyi_hist_test[i+1]\n",
    "    line.set_data(xdata, ydata)  \n",
    "    \n",
    "    axis.set_title(\"število stolpcev = {}\".format(str(i)))\n",
    "    return line,  \n",
    "  \n",
    "# calling the animation function      \n",
    "anim = animation.FuncAnimation(fig, animate,  \n",
    "                            init_func = init,  \n",
    "                            frames = 998, \n",
    "                            interval = 20,  \n",
    "                            blit = False)  \n",
    "plt.legend()\n",
    "plt.show()"
   ]
  },
  {
   "cell_type": "code",
   "execution_count": null,
   "metadata": {},
   "outputs": [],
   "source": []
  }
 ],
 "metadata": {
  "kernelspec": {
   "display_name": "Python 3",
   "language": "python",
   "name": "python3"
  }
 },
 "nbformat": 4,
 "nbformat_minor": 2
}
