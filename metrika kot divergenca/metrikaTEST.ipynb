{
 "cells": [
  {
   "cell_type": "markdown",
   "metadata": {},
   "source": [
    "Testiramo, kako se obnese metrika v smislu primerjave med porazdelitvami."
   ]
  },
  {
   "cell_type": "code",
   "execution_count": 1,
   "metadata": {},
   "outputs": [
    {
     "data": {
      "text/plain": [
       "<Figure size 640x480 with 1 Axes>"
      ]
     },
     "metadata": {},
     "output_type": "display_data"
    }
   ],
   "source": [
    "import GMM\n",
    "import numpy as np\n",
    "from kernel_estimators import kde, hist_to_fun\n",
    "import matplotlib.pyplot as plt\n",
    "from optimalBinNumber import optBinNum\n",
    "\n",
    "data1 = GMM.GMM([[0,1],[3,1]],20000)\n",
    "data2 = GMM.GMM([[3.1,1],[-4.8,2]],20000)\n",
    "\n",
    "y1,x1 = np.histogram(data1, bins=optBinNum(data1),density=1)\n",
    "y2,x2 = np.histogram(data2, bins=optBinNum(data2),density=1)\n",
    "\n",
    "pdf_hist1 = hist_to_fun((y1,x1))\n",
    "pdf_hist2 = hist_to_fun((y2,x2))\n",
    "\n",
    "x = np.linspace(-20,10,10000)\n",
    "\n",
    "izris1 = [pdf_hist1(i) for i in x]\n",
    "izris2 = [pdf_hist2(i) for i in x]\n",
    "\n",
    "plt.plot(x,izris1)\n",
    "plt.plot(x,izris2)\n",
    "\n",
    "plt.show()\n"
   ]
  },
  {
   "cell_type": "markdown",
   "metadata": {},
   "source": [
    "Poglejmo, kakšne so distance med histogramoma v različnih metrikah."
   ]
  },
  {
   "cell_type": "code",
   "execution_count": 2,
   "metadata": {},
   "outputs": [
    {
     "name": "stdout",
     "output_type": "stream",
     "text": [
      "0.8152695599982663\n",
      "0.25722791417495067\n",
      "0.16542687610578014\n"
     ]
    },
    {
     "name": "stderr",
     "output_type": "stream",
     "text": [
      "/Users/aljazostrez/Documents/GitHub/Renyi-entropy-and-divergence/function_distances.py:6: IntegrationWarning: The maximum number of subdivisions (50) has been achieved.\n",
      "  If increasing the limit yields no improvement it is advised to analyze \n",
      "  the integrand in order to determine the difficulties.  If the position of a \n",
      "  local difficulty can be determined (singularity, discontinuity) one will \n",
      "  probably gain from splitting up the interval and calling the integrator \n",
      "  on the subranges.  Perhaps a special-purpose integrator should be used.\n",
      "  d1 = scipy.integrate.quad(F,bounds[0],bounds[1])\n",
      "/Users/aljazostrez/Documents/GitHub/Renyi-entropy-and-divergence/function_distances.py:11: IntegrationWarning: The maximum number of subdivisions (50) has been achieved.\n",
      "  If increasing the limit yields no improvement it is advised to analyze \n",
      "  the integrand in order to determine the difficulties.  If the position of a \n",
      "  local difficulty can be determined (singularity, discontinuity) one will \n",
      "  probably gain from splitting up the interval and calling the integrator \n",
      "  on the subranges.  Perhaps a special-purpose integrator should be used.\n",
      "  d2 = scipy.integrate.quad(F,bounds[0],bounds[1])\n"
     ]
    }
   ],
   "source": [
    "from function_distances import *\n",
    "\n",
    "d1 = d1_metric(pdf_hist1,pdf_hist2)\n",
    "d2 = d2_metric(pdf_hist1,pdf_hist2)\n",
    "sup = sup_metric(pdf_hist1,pdf_hist2)\n",
    "\n",
    "print(d1)\n",
    "print(d2)\n",
    "print(sup)"
   ]
  },
  {
   "cell_type": "markdown",
   "metadata": {},
   "source": [
    "Distance glede na prave pdf:"
   ]
  },
  {
   "cell_type": "code",
   "execution_count": 3,
   "metadata": {},
   "outputs": [
    {
     "name": "stdout",
     "output_type": "stream",
     "text": [
      "pdf-a narejena\n",
      "d1-done\n",
      "d2-done\n",
      "sup-done\n",
      "0.8026964844884118\n",
      "0.24440960332609002\n",
      "0.16567891870847348\n"
     ]
    }
   ],
   "source": [
    "from scipy.stats import gaussian_kde\n",
    "\n",
    "pdf1 = gaussian_kde(data1)\n",
    "pdf2 = gaussian_kde(data2)\n",
    "print(\"pdf-a narejena\")\n",
    "\n",
    "# minimum = min(data1 + data2)-10\n",
    "# maximum = max(data1 + data2)+10\n",
    "# b =  [minimum, maximum]\n",
    "\n",
    "d1 = d1_metric(pdf1,pdf2)\n",
    "print(\"d1-done\")\n",
    "d2 = d2_metric(pdf1,pdf2)\n",
    "print(\"d2-done\")\n",
    "sup = sup_metric(pdf1,pdf2)\n",
    "print(\"sup-done\")\n",
    "\n",
    "print(d1)\n",
    "print(d2)\n",
    "print(sup)"
   ]
  },
  {
   "cell_type": "markdown",
   "metadata": {},
   "source": [
    "Izris pravih pdf:"
   ]
  },
  {
   "cell_type": "code",
   "execution_count": 4,
   "metadata": {
    "scrolled": true
   },
   "outputs": [
    {
     "data": {
      "image/png": "[encoded data removed]",
      "text/plain": [
       "<Figure size 432x288 with 1 Axes>"
      ]
     },
     "metadata": {
      "needs_background": "light"
     },
     "output_type": "display_data"
    }
   ],
   "source": [
    "plt.plot(x,pdf1(x))\n",
    "plt.plot(x,pdf2(x))\n",
    "\n",
    "plt.show()\n"
   ]
  },
  {
   "cell_type": "markdown",
   "metadata": {},
   "source": [
    "Metrika normalnih z različnimi mu in sigma glede na:\n",
    "- pdf (gaussian kernel density estimation)\n",
    "- histograme (scott - optimal bin size)"
   ]
  },
  {
   "cell_type": "code",
   "execution_count": 27,
   "metadata": {},
   "outputs": [],
   "source": [
    "normalne_pdf = {}\n",
    "normalne_hist = {}\n",
    "\n",
    "for i in range(5):\n",
    "    for j in range(1,10,2):\n",
    "        a = GMM.GMM([[i,j]])\n",
    "        normalne_pdf[(i,j)] = gaussian_kde(a)\n",
    "        normalne_hist[(i,j)] = hist_to_fun(np.histogram(a,bins=optBinNum(a),density=1))"
   ]
  },
  {
   "cell_type": "code",
   "execution_count": 28,
   "metadata": {},
   "outputs": [
    {
     "name": "stderr",
     "output_type": "stream",
     "text": [
      "/Users/aljazostrez/Documents/GitHub/Renyi-entropy-and-divergence/function_distances.py:6: IntegrationWarning: The maximum number of subdivisions (50) has been achieved.\n",
      "  If increasing the limit yields no improvement it is advised to analyze \n",
      "  the integrand in order to determine the difficulties.  If the position of a \n",
      "  local difficulty can be determined (singularity, discontinuity) one will \n",
      "  probably gain from splitting up the interval and calling the integrator \n",
      "  on the subranges.  Perhaps a special-purpose integrator should be used.\n",
      "  d1 = scipy.integrate.quad(F,bounds[0],bounds[1])\n"
     ]
    }
   ],
   "source": [
    "table = [[\"(mu1,std1)\",\"(mu2,std2)\",\"distance_pdf\",\"distance_hist\"],[\"\",\"\",\"\",\"\"]]\n",
    "\n",
    "for el in normalne_pdf:\n",
    "    table.append([str((0,1)),str(el),round(d1_metric(normalne_pdf[(0,1)],normalne_pdf[el]),4),round(d1_metric(normalne_hist[(0,1)],normalne_hist[(el)]),4)])"
   ]
  },
  {
   "cell_type": "code",
   "execution_count": 29,
   "metadata": {},
   "outputs": [
    {
     "name": "stdout",
     "output_type": "stream",
     "text": [
      "   (mu1,std1)   (mu2,std2)   distance_pdf   distance_hist\n",
      "                                                         \n",
      "       (0, 1)       (0, 1)            0.0             0.0\n",
      "       (0, 1)       (0, 3)         1.5559          1.5563\n",
      "       (0, 1)       (0, 5)         1.8162          1.8164\n",
      "       (0, 1)       (0, 7)         1.8976          1.9049\n",
      "       (0, 1)       (0, 9)         1.9351          1.9342\n",
      "       (0, 1)       (1, 1)         0.7721          0.7772\n",
      "       (0, 1)       (1, 3)         1.5664          1.5614\n",
      "       (0, 1)       (1, 5)         1.8121          1.8067\n",
      "       (0, 1)       (1, 7)         1.8958          1.8971\n",
      "       (0, 1)       (1, 9)         1.9333          1.9323\n",
      "       (0, 1)       (2, 1)         1.3596          1.3799\n",
      "       (0, 1)       (2, 3)         1.5736          1.5703\n",
      "       (0, 1)       (2, 5)         1.8096          1.8094\n",
      "       (0, 1)       (2, 7)         1.8967          1.8725\n",
      "       (0, 1)       (2, 9)          1.935           1.959\n",
      "       (0, 1)       (3, 1)         1.7265          1.7355\n",
      "       (0, 1)       (3, 3)         1.5841          1.5861\n",
      "       (0, 1)       (3, 5)          1.816          1.8044\n",
      "       (0, 1)       (3, 7)         1.8932          1.9286\n",
      "       (0, 1)       (3, 9)         1.9356          1.9342\n",
      "       (0, 1)       (4, 1)         1.9049          1.9189\n",
      "       (0, 1)       (4, 3)         1.5995          1.5995\n",
      "       (0, 1)       (4, 5)         1.8213           1.824\n",
      "       (0, 1)       (4, 7)          1.899          1.8953\n",
      "       (0, 1)       (4, 9)         1.9334          1.9317\n"
     ]
    }
   ],
   "source": [
    "from print_table import print_table\n",
    "\n",
    "# table\n",
    "print_table(table)"
   ]
  },
  {
   "cell_type": "markdown",
   "metadata": {},
   "source": [
    "Kolikšna je razlika med pdf in histogramom za posamezne normalne porazdelitve $\\mathcal{N}_i$ (tj. dist(pdf_i, hist_i))"
   ]
  },
  {
   "cell_type": "code",
   "execution_count": 30,
   "metadata": {
    "scrolled": false
   },
   "outputs": [
    {
     "name": "stdout",
     "output_type": "stream",
     "text": [
      "(0, 1):  0.0422\n",
      "(0, 3):  0.0429\n",
      "(0, 5):  0.0488\n",
      "(0, 7):  0.0436\n",
      "(0, 9):  0.0457\n",
      "(1, 1):  0.0454\n",
      "(1, 3):  0.0482\n",
      "(1, 5):  0.0548\n",
      "(1, 7):  0.0501\n",
      "(1, 9):  0.0505\n",
      "(2, 1):  0.047\n",
      "(2, 3):  0.0491\n",
      "(2, 5):  0.0514\n",
      "(2, 7):  0.0428\n",
      "(2, 9):  0.0391\n",
      "(3, 1):  0.0493\n",
      "(3, 3):  0.0449\n",
      "(3, 5):  0.0413\n",
      "(3, 7):  0.0514\n",
      "(3, 9):  0.0509\n",
      "(4, 1):  0.0467\n",
      "(4, 3):  0.042\n",
      "(4, 5):  0.0431\n",
      "(4, 7):  0.0459\n",
      "(4, 9):  0.0382\n"
     ]
    }
   ],
   "source": [
    "for el in normalne_pdf:\n",
    "    print(\"{}: \".format(str(el)), round(d1_metric(normalne_pdf[el],normalne_hist[el]),4))"
   ]
  },
  {
   "cell_type": "markdown",
   "metadata": {},
   "source": [
    "Poglejmo še, kakšna je distanca, če gledamo normalne porazdelitve z repi (srednja vrenost je ista, rep odmikamo). Dodamo še renyi divergenco pri redu 0.5, 1 (KL), 2 in 5."
   ]
  },
  {
   "cell_type": "code",
   "execution_count": 17,
   "metadata": {},
   "outputs": [],
   "source": [
    "import GMM\n",
    "from scipy.stats import gaussian_kde\n",
    "from kernel_estimators import hist_to_fun\n",
    "import numpy as np\n",
    "from optimalBinNumber import optBinNum\n",
    "\n",
    "normalne_z_repi_pdf = {}\n",
    "normalne_z_repi_hist = {}\n",
    "\n",
    "for i in range(20):\n",
    "    if i == 0:\n",
    "        a = GMM.GMM([[0,1]],20000)\n",
    "        normalne_z_repi_pdf[i] = gaussian_kde(a)\n",
    "        normalne_z_repi_hist[i] = hist_to_fun(np.histogram(a,bins=optBinNum(a),density=1))\n",
    "        continue\n",
    "    a = GMM.GMM([[0,1], [i*0.5,0.1]],20000, weights=[0.99,0.01])\n",
    "    normalne_z_repi_pdf[i] = gaussian_kde(a)\n",
    "    normalne_z_repi_hist[i] = hist_to_fun(np.histogram(a,bins=optBinNum(a),density=1))"
   ]
  },
  {
   "cell_type": "code",
   "execution_count": 18,
   "metadata": {},
   "outputs": [
    {
     "data": {
      "text/plain": [
       "[<matplotlib.lines.Line2D at 0x11fe1eac8>]"
      ]
     },
     "execution_count": 18,
     "metadata": {},
     "output_type": "execute_result"
    },
    {
     "data": {
      "image/png": "[encoded data removed]",
      "text/plain": [
       "<Figure size 432x288 with 1 Axes>"
      ]
     },
     "metadata": {
      "needs_background": "light"
     },
     "output_type": "display_data"
    }
   ],
   "source": [
    "import matplotlib.pyplot as plt\n",
    "\n",
    "x = np.linspace(-10,10,10000)\n",
    "plt.plot(x, normalne_z_repi_pdf[9](x))"
   ]
  },
  {
   "cell_type": "code",
   "execution_count": 19,
   "metadata": {},
   "outputs": [
    {
     "name": "stdout",
     "output_type": "stream",
     "text": [
      "0\n"
     ]
    },
    {
     "name": "stderr",
     "output_type": "stream",
     "text": [
      "/Users/aljazostrez/Documents/GitHub/Renyi-entropy-and-divergence/function_distances.py:6: IntegrationWarning: The maximum number of subdivisions (50) has been achieved.\n",
      "  If increasing the limit yields no improvement it is advised to analyze \n",
      "  the integrand in order to determine the difficulties.  If the position of a \n",
      "  local difficulty can be determined (singularity, discontinuity) one will \n",
      "  probably gain from splitting up the interval and calling the integrator \n",
      "  on the subranges.  Perhaps a special-purpose integrator should be used.\n",
      "  d1 = scipy.integrate.quad(F,bounds[0],bounds[1])\n"
     ]
    },
    {
     "name": "stdout",
     "output_type": "stream",
     "text": [
      "1\n",
      "2\n",
      "3\n",
      "4\n",
      "5\n",
      "6\n",
      "7\n",
      "8\n",
      "9\n",
      "10\n",
      "11\n",
      "12\n",
      "13\n",
      "14\n",
      "15\n",
      "16\n",
      "17\n",
      "18\n",
      "19\n"
     ]
    }
   ],
   "source": [
    "from renyi import renyi_divergence_cont\n",
    "from function_distances import d1_metric\n",
    "\n",
    "table = [[\"i\",\"distance_pdf\",\"distance_hist\",\"renyi_pdf_0.5\",\"renyi_pdf_1\",\"renyi_pdf_2\",\"renyi_pdf_5\"],[\"\",\"\",\"\",\"\",\"\",\"\",\"\"]]\n",
    "\n",
    "m = -float(\"inf\")\n",
    "M = float(\"inf\")\n",
    "\n",
    "for el in normalne_z_repi_pdf:\n",
    "    table.append([\n",
    "        el,\n",
    "        round(d1_metric(normalne_z_repi_pdf[0],normalne_z_repi_pdf[el]),4),\n",
    "        round(d1_metric(normalne_z_repi_hist[0],normalne_z_repi_hist[(el)]),4),\n",
    "        round(renyi_divergence_cont(normalne_z_repi_pdf[0],normalne_z_repi_pdf[el],0.5,m,M),4),\n",
    "        round(renyi_divergence_cont(normalne_z_repi_pdf[0],normalne_z_repi_pdf[el],1,m,M),4),\n",
    "        round(renyi_divergence_cont(normalne_z_repi_pdf[0],normalne_z_repi_pdf[el],2,m,M),4),\n",
    "        round(renyi_divergence_cont(normalne_z_repi_pdf[0],normalne_z_repi_pdf[el],5,m,M),4)\n",
    "    ])\n",
    "    print(el)"
   ]
  },
  {
   "cell_type": "code",
   "execution_count": 20,
   "metadata": {},
   "outputs": [
    {
     "name": "stdout",
     "output_type": "stream",
     "text": [
      "    i   distance_pdf   distance_hist   renyi_pdf_0.5   renyi_pdf_1   renyi_pdf_2   renyi_pdf_5\n",
      "                                                                                              \n",
      "    0            0.0             0.0            -0.0           0.0           0.0           0.0\n",
      "    1         0.0292          0.0758          0.0007        0.0013        0.0028         0.016\n",
      "    2         0.0347          0.0755          0.0006        0.0013        0.0029        0.0819\n",
      "    3         0.0318          0.0731          0.0008        0.0016        0.0035        0.0165\n",
      "    4         0.0324          0.0731          0.0011        0.0022        0.0045        0.1467\n",
      "    5         0.0417           0.073          0.0023        0.0041        0.0068        0.0119\n",
      "    6         0.0378          0.0745          0.0034        0.0055        0.0081        0.0118\n",
      "    7          0.038          0.0799          0.0059        0.0082        0.0102        0.0132\n",
      "    8         0.0354          0.0716          0.0086          0.01        0.0111        0.0136\n",
      "    9         0.0378          0.0724          0.0105         0.011        0.0129         0.552\n",
      "   10         0.0319          0.0644          0.0104        0.0107        0.0112        0.0136\n",
      "   11         0.0353          0.0646          0.0106        0.0112        0.0134        0.9684\n",
      "   12         0.0414          0.0676          0.0105        0.0109        0.0118        0.0162\n",
      "   13         0.0416          0.0739          0.0107        0.0113        0.0128        0.0435\n",
      "   14         0.0435          0.0779          0.0105        0.0108        0.0116        0.0138\n",
      "   15         0.0431          0.0661          0.0107        0.0113        0.0126        0.0172\n",
      "   16         0.0438          0.0657          0.0107        0.0112        0.0122        0.0171\n",
      "   17         0.0411           0.065          0.0105        0.0109        0.0117         0.014\n",
      "   18         0.0303          0.0537          0.0104        0.0107        0.0113        0.0134\n",
      "   19         0.0349          0.0645          0.0104        0.0107        0.0113         0.013\n"
     ]
    }
   ],
   "source": [
    "from print_table import print_table\n",
    "\n",
    "print_table(table)"
   ]
  },
  {
   "cell_type": "code",
   "execution_count": 21,
   "metadata": {},
   "outputs": [
    {
     "data": {
      "text/plain": [
       "[<matplotlib.lines.Line2D at 0x125441668>]"
      ]
     },
     "execution_count": 21,
     "metadata": {},
     "output_type": "execute_result"
    },
    {
     "data": {
      "image/png": "[encoded data removed]",
      "text/plain": [
       "<Figure size 432x288 with 1 Axes>"
      ]
     },
     "metadata": {
      "needs_background": "light"
     },
     "output_type": "display_data"
    }
   ],
   "source": [
    "x = np.linspace(-10,10,10000)\n",
    "plt.plot(x, normalne_z_repi_pdf[10](x))\n",
    "plt.plot(x, normalne_z_repi_pdf[4](x))\n",
    "plt.plot(x, normalne_z_repi_pdf[0](x))"
   ]
  },
  {
   "cell_type": "markdown",
   "metadata": {},
   "source": [
    "Renyi je čuden... (i=8: renyi_pdf_5 je skoraj nič, pri i=7 je 9 - nerazumljiva razlika v primerjavi z indexi i=4,6,8)"
   ]
  }
 ],
 "metadata": {
  "kernelspec": {
   "display_name": "Python 3",
   "language": "python",
   "name": "python3"
  },
  "language_info": {
   "codemirror_mode": {
    "name": "ipython",
    "version": 3
   },
   "file_extension": ".py",
   "mimetype": "text/x-python",
   "name": "python",
   "nbconvert_exporter": "python",
   "pygments_lexer": "ipython3",
   "version": "3.7.1"
  }
 },
 "nbformat": 4,
 "nbformat_minor": 2
}
